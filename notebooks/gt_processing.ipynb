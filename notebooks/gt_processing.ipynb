{
 "cells": [
  {
   "cell_type": "markdown",
   "id": "material-absence",
   "metadata": {},
   "source": [
    "# Remove stuff from estimation"
   ]
  },
  {
   "cell_type": "code",
   "execution_count": 1,
   "id": "loaded-transport",
   "metadata": {},
   "outputs": [],
   "source": [
    "import numpy as np"
   ]
  },
  {
   "cell_type": "code",
   "execution_count": 2,
   "id": "sustainable-genius",
   "metadata": {},
   "outputs": [],
   "source": [
    "path = \"/home/itaouil/datasets/VIO/FPV/indoor_forward/indoor_forward_6_orb/pc-no-clahe/\""
   ]
  },
  {
   "cell_type": "code",
   "execution_count": 3,
   "id": "acoustic-scientist",
   "metadata": {},
   "outputs": [],
   "source": [
    "data = np.loadtxt(path + \"stamped_traj_estimate.txt\", delimiter=' ', usecols=range(0,8))"
   ]
  },
  {
   "cell_type": "code",
   "execution_count": 4,
   "id": "clean-devil",
   "metadata": {},
   "outputs": [
    {
     "data": {
      "text/plain": [
       "1540820000.0"
      ]
     },
     "execution_count": 4,
     "metadata": {},
     "output_type": "execute_result"
    }
   ],
   "source": [
    "data[0,0]"
   ]
  },
  {
   "cell_type": "code",
   "execution_count": 5,
   "id": "stock-difference",
   "metadata": {},
   "outputs": [
    {
     "data": {
      "text/plain": [
       "array([ 1.54082e+09,  0.00000e+00,  0.00000e+00,  0.00000e+00,\n",
       "       -9.05377e-03,  1.15763e-04,  0.00000e+00,  9.99959e-01])"
      ]
     },
     "execution_count": 5,
     "metadata": {},
     "output_type": "execute_result"
    }
   ],
   "source": [
    "data[0]"
   ]
  },
  {
   "cell_type": "code",
   "execution_count": 6,
   "id": "chinese-taylor",
   "metadata": {},
   "outputs": [],
   "source": [
    "np.savetxt(path + \"stamped_traj_estimate2.txt\", data, fmt='%.14f', delimiter=' ')"
   ]
  },
  {
   "cell_type": "code",
   "execution_count": null,
   "id": "anonymous-broadcast",
   "metadata": {},
   "outputs": [],
   "source": []
  }
 ],
 "metadata": {
  "kernelspec": {
   "display_name": "Python 3",
   "language": "python",
   "name": "python3"
  },
  "language_info": {
   "codemirror_mode": {
    "name": "ipython",
    "version": 3
   },
   "file_extension": ".py",
   "mimetype": "text/x-python",
   "name": "python",
   "nbconvert_exporter": "python",
   "pygments_lexer": "ipython3",
   "version": "3.6.12"
  }
 },
 "nbformat": 4,
 "nbformat_minor": 5
}
